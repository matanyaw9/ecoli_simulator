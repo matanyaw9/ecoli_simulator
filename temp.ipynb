{
 "cells": [
  {
   "cell_type": "code",
   "execution_count": 1,
   "metadata": {},
   "outputs": [],
   "source": [
    "%load_ext autoreload\n",
    "%autoreload 2\n"
   ]
  },
  {
   "cell_type": "code",
   "execution_count": 2,
   "metadata": {},
   "outputs": [],
   "source": [
    "import os\n",
    "from EColi import EColi"
   ]
  },
  {
   "cell_type": "code",
   "execution_count": 3,
   "metadata": {},
   "outputs": [
    {
     "name": "stdout",
     "output_type": "stream",
     "text": [
      "<EColi.EColi object at 0x000001ECA0A2FE50>\n"
     ]
    }
   ],
   "source": [
    "ecoli1 = EColi(1, \"asa\")\n",
    "print(ecoli1)"
   ]
  },
  {
   "cell_type": "code",
   "execution_count": 5,
   "metadata": {},
   "outputs": [
    {
     "data": {
      "text/plain": [
       "'CACCGATCTCTCATTCCAGGAACGCGCGTCGGTCGTCGGTGTGCAGCCGTTGGAGAGTCTACAGCTGGACCATATATAGGATGTATAGGGGACCTACACCCCGTGAAGCCATCTTCCAAGTTCACGGCTACGTGGTGGAGAATCTGCATAAAACGATATATTTCTCGGCCCTTCAGGTCAAGGTGATTAATTCCAAGACTATTTTTGGCTTCGGGCGGATGGGCTCTTTGCTAGTCCCCTCGAAAGAAGAGGGCGCTTTAGCGTTGGCAAATCCATCTGAGGCGGTGATGGAGAAGTTGTCTATGAGGGGGTAATTGTATAGCTCAAAGGCTACAGTCAGCCAGCAGGTGAGTTCAGAATAAGTAGGCTAATTTGCTGAAACATTGCTGACGGTCGGCTAGAGGGTACGGTGAGTCAGGTTGTAAAGTCAATTTGCCCTTGTCACGGCGTTTTGTACAGACAGCGGTGCCTGATTTGCAGATAGCTGTTCGTCGGCTAACTGGTTGGGCTCGGTCCAACGACTAGGATGCCGTCAGTGCACGCTCATAAACAATACGGTATCTGCCAGCTCGTGAAGCGTTTAACCTTAGTGTTCACTTCGATTTGCCTCTCGATCACGTCCTCATTGATTTGTTGGATGCCGGTTCGGCGACTACCGACTCTAGGACGGTCCGGGCTCGAGGTAAACGGACAGCGCTGGCGCCATTAAGCCTGGAAGCGACTAAGTCTGATGTTACTCTACCTCCTGAGGCCGCGTATTTCTTTTGTAGATGGTGCAACGAGTAGGCTTGATGGTACTCTAATGACACAGAAACAACACCTGCCGTGTGGGCCTGCTAGGACTGTTTCCGCTACCTATCGTAACAATCTAGATGCCACCGTCTTATGAAAGGATGGGGT'"
      ]
     },
     "execution_count": 5,
     "metadata": {},
     "output_type": "execute_result"
    }
   ],
   "source": [
    "ecoli1.get_dna()"
   ]
  }
 ],
 "metadata": {
  "kernelspec": {
   "display_name": "Python 3",
   "language": "python",
   "name": "python3"
  },
  "language_info": {
   "codemirror_mode": {
    "name": "ipython",
    "version": 3
   },
   "file_extension": ".py",
   "mimetype": "text/x-python",
   "name": "python",
   "nbconvert_exporter": "python",
   "pygments_lexer": "ipython3",
   "version": "3.9.2"
  }
 },
 "nbformat": 4,
 "nbformat_minor": 2
}
